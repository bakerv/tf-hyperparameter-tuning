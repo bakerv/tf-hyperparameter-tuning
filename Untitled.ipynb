{
 "cells": [
  {
   "cell_type": "code",
   "execution_count": 100,
   "id": "b95b6bdb-4de5-4ac0-8404-e536dc5c092a",
   "metadata": {},
   "outputs": [],
   "source": [
    "import keras_tuner as kt\n",
    "import numpy as np\n",
    "from pprint import pprint\n",
    "import tensorflow as tf\n",
    "from tensorflow import keras\n",
    "\n"
   ]
  },
  {
   "cell_type": "code",
   "execution_count": 122,
   "id": "008eb035-bebc-43b9-b661-9ec1ed757724",
   "metadata": {},
   "outputs": [],
   "source": [
    "#import the dataset\n",
    "(img_train,label_train), (img_test,label_test)\\\n",
    "= keras.datasets.fashion_mnist.load_data()\n",
    "\n",
    "\n",
    "img_train = img_train.reshape(60000,28,28,1)\n",
    "#label_train = label_train.reshape(-1,1)\n",
    "img_test = img_test.reshape(10000,28,28,1)\n",
    "#label_test = label_test.reshape(10000,1)"
   ]
  },
  {
   "cell_type": "code",
   "execution_count": 123,
   "id": "b437f991-643b-4410-b222-5b5129ea4775",
   "metadata": {},
   "outputs": [
    {
     "name": "stdout",
     "output_type": "stream",
     "text": [
      "(60000, 28, 28, 1)\n",
      "(60000,)\n",
      "(10000, 28, 28, 1)\n",
      "(10000,)\n"
     ]
    }
   ],
   "source": [
    "#verify data set shapes are as expected\n",
    "print(img_train.shape)\n",
    "print(label_train.shape)\n",
    "print(img_test.shape)\n",
    "print(label_test.shape)"
   ]
  },
  {
   "cell_type": "code",
   "execution_count": 124,
   "id": "c37d938d-f533-492c-8af4-694e8ed1a5a7",
   "metadata": {},
   "outputs": [],
   "source": [
    "# Normalize the image data\n",
    "img_train = img_train / 255.0\n",
    "img_test = img_test / 255.0"
   ]
  },
  {
   "cell_type": "code",
   "execution_count": 105,
   "id": "253031be-690b-4797-aed8-af51e8046597",
   "metadata": {},
   "outputs": [],
   "source": [
    "def fmnist_tuner(hyper_parameters):\n",
    "    model = keras.Sequential()\n",
    "    #insert convolution tuning here\n",
    "    \n",
    "    model.add(keras.layers.Flatten(input_shape=(28,28)))\n",
    "    tf.keras.layers.Conv2D(32,(3,3), activation='relu', input_shape=(28,28)),\n",
    "    tf.keras.layers.MaxPooling2D(2,2),\n",
    "    #Input layer tuning\n",
    "    hp_units = hyper_parameters.Int('units',\n",
    "                                    min_value=32,\n",
    "                                    max_value=512,\n",
    "                                    step=32)\n",
    "    model.add(keras.layers.Dense(units = hp_units, activation = 'relu'))\n",
    "    model.add(keras.layers.Dense(10, activation = 'softmax'))\n",
    "    \n",
    "    #optimizer tuning\n",
    "    test_learning_rates = hyper_parameters.Choice('learning_rate',\n",
    "                                                  values=[0.01,0.001,0.0001,0.0001,0.0005,0.00001])\n",
    "    \n",
    "    model.compile(optimizer=keras.optimizers.Adam(learning_rate = test_learning_rates),\n",
    "                 loss=keras.losses.SparseCategoricalCrossentropy(from_logits=True),\n",
    "                 metrics=['accuracy'])\n",
    "    \n",
    "    return model  "
   ]
  },
  {
   "cell_type": "code",
   "execution_count": 104,
   "id": "00ca00f2-e11a-453c-a8e4-5d07e455e8fe",
   "metadata": {},
   "outputs": [
    {
     "name": "stdout",
     "output_type": "stream",
     "text": [
      "INFO:tensorflow:Reloading Oracle from existing project my_dir\\intro_to_kt\\oracle.json\n",
      "INFO:tensorflow:Reloading Tuner from my_dir\\intro_to_kt\\tuner0.json\n"
     ]
    }
   ],
   "source": [
    "#tuning\n",
    "\n",
    "tuner = kt.Hyperband(fmnist_tuner,\n",
    "                     objective='val_accuracy',\n",
    "                     max_epochs=10,\n",
    "                     factor=3,\n",
    "                     directory='my_dir',\n",
    "                     project_name='intro_to_kt')\n",
    "\n",
    "stop_early = tf.keras.callbacks.EarlyStopping(monitor='val_loss', patience = 5)"
   ]
  },
  {
   "cell_type": "code",
   "execution_count": 52,
   "id": "0349bf95-74f0-444d-98e8-3224a302fbe0",
   "metadata": {},
   "outputs": [
    {
     "name": "stdout",
     "output_type": "stream",
     "text": [
      "Trial 30 Complete [00h 00m 53s]\n",
      "val_accuracy: 0.843416690826416\n",
      "\n",
      "Best val_accuracy So Far: 0.8891666531562805\n",
      "Total elapsed time: 00h 07m 02s\n",
      "INFO:tensorflow:Oracle triggered exit\n"
     ]
    }
   ],
   "source": [
    "tuner.search(img_train,label_train, epochs = 50, validation_split = 0.2)"
   ]
  },
  {
   "cell_type": "code",
   "execution_count": 55,
   "id": "24cdd397-c728-4f3d-ab9b-6015bd42849c",
   "metadata": {},
   "outputs": [],
   "source": [
    "best_hps = tuner.get_best_hyperparameters(num_trials=10)[0]"
   ]
  },
  {
   "cell_type": "code",
   "execution_count": 56,
   "id": "ce423664-d40b-4727-9b98-dbe26b072c64",
   "metadata": {},
   "outputs": [
    {
     "name": "stdout",
     "output_type": "stream",
     "text": [
      "288\n",
      "0.001\n"
     ]
    }
   ],
   "source": [
    "print(best_hps.get('units'))\n",
    "print(best_hps.get('learning_rate'))"
   ]
  },
  {
   "cell_type": "code",
   "execution_count": 125,
   "id": "f2519ce7-fb0c-480f-9d0d-7f4dd9b7df2c",
   "metadata": {},
   "outputs": [],
   "source": [
    "from tensorflow.keras.optimizers import RMSprop\n",
    "#Keras model for image classification\n",
    "model = tf.keras.models.Sequential([\n",
    "    # Alternating convolution and pooling layers to process the images before analysis\n",
    "    # The convulation layers accent features from the images,\n",
    "    # The pooling layers reduce the amount of information to process\n",
    "    tf.keras.layers.Conv2D(64,(3,3), activation='relu', input_shape=(28,28,1)),\n",
    "    tf.keras.layers.MaxPooling2D(2,2),\n",
    "    tf.keras.layers.Conv2D(64,(3,3), activation='relu'),\n",
    "    tf.keras.layers.MaxPooling2D(2,2),\n",
    "    # Flatten the images for analysis by the nn\n",
    "    tf.keras.layers.Flatten(),\n",
    "    # Neural network for image classification 256 neuron hidden layer, with a 1 nueron output layer\n",
    "    tf.keras.layers.Dense(288, activation='relu'),\n",
    "    tf.keras.layers.Dense(10, activation ='softmax')\n",
    "])\n",
    "\n",
    "model.compile(optimizer = RMSprop(learning_rate=0.001),\n",
    "              loss ='binary_crossentropy',\n",
    "              metrics = ['acc'])"
   ]
  },
  {
   "cell_type": "code",
   "execution_count": null,
   "id": "1da64b76-3556-4eae-802d-2cb623fac4f1",
   "metadata": {},
   "outputs": [],
   "source": [
    "history = model.fit(img_train, \n",
    "                    label_train,\n",
    "                    epochs=10)"
   ]
  },
  {
   "cell_type": "code",
   "execution_count": null,
   "id": "61f3f302-bbc1-4e0f-8a9e-4926bae33fee",
   "metadata": {},
   "outputs": [],
   "source": []
  }
 ],
 "metadata": {
  "kernelspec": {
   "display_name": "Python 3",
   "language": "python",
   "name": "python3"
  },
  "language_info": {
   "codemirror_mode": {
    "name": "ipython",
    "version": 3
   },
   "file_extension": ".py",
   "mimetype": "text/x-python",
   "name": "python",
   "nbconvert_exporter": "python",
   "pygments_lexer": "ipython3",
   "version": "3.8.10"
  }
 },
 "nbformat": 4,
 "nbformat_minor": 5
}
