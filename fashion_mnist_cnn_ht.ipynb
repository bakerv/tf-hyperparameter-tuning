{
 "cells": [
  {
   "cell_type": "code",
   "execution_count": 2,
   "id": "b95b6bdb-4de5-4ac0-8404-e536dc5c092a",
   "metadata": {},
   "outputs": [],
   "source": [
    "import keras_tuner as kt\n",
    "import matplotlib.pyplot as plt\n",
    "import numpy as np\n",
    "from pprint import pprint\n",
    "import tensorflow as tf\n",
    "from tensorflow import keras"
   ]
  },
  {
   "cell_type": "code",
   "execution_count": 49,
   "id": "253031be-690b-4797-aed8-af51e8046597",
   "metadata": {
    "tags": []
   },
   "outputs": [],
   "source": [
    "def fmnist_tuner(hyper_parameters):\n",
    "    # tuning parameters\n",
    "    conv_units = hyper_parameters.Int('conv_units',\n",
    "                                      min_value= 32,\n",
    "                                      max_value=256,\n",
    "                                      step = 32)\n",
    "    dense_units = hyper_parameters.Int('dense_units',\n",
    "                                       min_value=32,\n",
    "                                       max_value=512,\n",
    "                                       step=32)\n",
    "    test_learning_rates = hyper_parameters.Choice('learning_rate',\n",
    "                                                  values = [0.0001, 0.001, 0.01, 0.03,\n",
    "                                                            0.05, 0.08, 0.1, 0.3])\n",
    "    \n",
    "    #model to tune\n",
    "    model = keras.Sequential()\n",
    "    model.add(keras.layers.Conv2D(32, (3,3), activation='relu', input_shape=(28,28,1)))\n",
    "    model.add(keras.layers.MaxPooling2D(2,2))\n",
    "    model.add(keras.layers.Flatten(input_shape = (28,28,1)))\n",
    "   \n",
    "    model.add(keras.layers.Dense(units = dense_units, activation = 'relu'))\n",
    "    model.add(keras.layers.Dense(10, activation = 'softmax'))\n",
    "    \n",
    "    #optimizer tuning\n",
    "   \n",
    "    \n",
    "    model.compile(optimizer=keras.optimizers.Adam(learning_rate = 0.01),\n",
    "                 loss='sparse_categorical_crossentropy',\n",
    "                 metrics=['accuracy'])\n",
    "    \n",
    "    return model  "
   ]
  },
  {
   "cell_type": "code",
   "execution_count": 45,
   "id": "a8fe588a-2e24-40e4-959c-188511f80a2e",
   "metadata": {},
   "outputs": [],
   "source": [
    "def plot_training(model_history, measure):\n",
    "    plt.plot(model_history.history[measure])\n",
    "    plt.plot(model_history.history['val_'+measure])\n",
    "    plt.xlabel('Epochs')\n",
    "    plt.ylabel(measure)\n",
    "    plt.legend(['training '+ measure,'validation '+ measure])\n",
    "    plt.show()\n",
    "\n"
   ]
  },
  {
   "cell_type": "code",
   "execution_count": 3,
   "id": "008eb035-bebc-43b9-b661-9ec1ed757724",
   "metadata": {},
   "outputs": [],
   "source": [
    "#import the dataset\n",
    "(training_images, training_labels),\\\n",
    "(validation_images, validation_labels) = keras.datasets.fashion_mnist.load_data()\n",
    "\n",
    "# Normalize the image data\n",
    "training_images = training_images.reshape(-1,28,28,1) / 255.0\n",
    "validation_images = validation_images.reshape(-1,28,28,1) /255.0\n"
   ]
  },
  {
   "cell_type": "code",
   "execution_count": 4,
   "id": "b437f991-643b-4410-b222-5b5129ea4775",
   "metadata": {},
   "outputs": [
    {
     "name": "stdout",
     "output_type": "stream",
     "text": [
      "(60000, 28, 28, 1)\n",
      "(60000,)\n",
      "(10000, 28, 28, 1)\n",
      "(10000,)\n"
     ]
    }
   ],
   "source": [
    "#verify data set shapes are as expected\n",
    "print(training_images.shape)\n",
    "print(training_labels.shape)\n",
    "print(validation_images.shape)\n",
    "print(validation_labels.shape)"
   ]
  },
  {
   "cell_type": "code",
   "execution_count": 5,
   "id": "61a7c1e3-c62f-4eb1-9821-145353b0594d",
   "metadata": {},
   "outputs": [],
   "source": [
    "from tensorflow.keras.optimizers import RMSprop\n",
    "#Keras model for image classification\n",
    "model = tf.keras.models.Sequential([\n",
    "    tf.keras.layers.Conv2D(32,(3,3), activation='relu', input_shape=(28,28,1)),\n",
    "    tf.keras.layers.MaxPooling2D(2,2),\n",
    "    tf.keras.layers.Flatten(),\n",
    "    tf.keras.layers.Dense(288, activation='relu'),\n",
    "    tf.keras.layers.Dense(10, activation ='softmax')\n",
    "])\n",
    "\n",
    "model.compile(optimizer = RMSprop(learning_rate = 0.001),\n",
    "              loss ='sparse_categorical_crossentropy',\n",
    "              metrics = ['accuracy'])"
   ]
  },
  {
   "cell_type": "code",
   "execution_count": null,
   "id": "1da64b76-3556-4eae-802d-2cb623fac4f1",
   "metadata": {},
   "outputs": [],
   "source": [
    "history = model.fit(training_images, \n",
    "                    training_labels,\n",
    "                    validation_data = (validation_images, validation_labels),\n",
    "                    epochs=100,\n",
    "                    batch_size = 5000,\n",
    "                    verbose=1\n",
    "                   )"
   ]
  },
  {
   "cell_type": "code",
   "execution_count": null,
   "id": "f1894750-c6f9-42cc-a7b0-96401d5e3424",
   "metadata": {},
   "outputs": [],
   "source": [
    "plot_training(history, 'accuracy')\n",
    "plot_training(history, 'loss')"
   ]
  },
  {
   "cell_type": "code",
   "execution_count": 48,
   "id": "f69b54d6-bc57-4b8d-a94b-1a68d66ecb4a",
   "metadata": {},
   "outputs": [
    {
     "name": "stdout",
     "output_type": "stream",
     "text": [
      "Trial 8 Complete [00h 00m 03s]\n",
      "val_accuracy: 0.8965833187103271\n",
      "\n",
      "Best val_accuracy So Far: 0.9052500128746033\n",
      "Total elapsed time: 00h 00m 27s\n",
      "INFO:tensorflow:Oracle triggered exit\n",
      "('batch_size = 1024', 'Dense units: 160', 'Learning rate: 0.1', 'Conv filters: 16')\n"
     ]
    }
   ],
   "source": [
    "#batch_sizes=[8,16,32,64,128,256,512,1024,2048,4096]\n",
    "batch_sizes=[1024]\n",
    "optimal_hyperparameters = []\n",
    "\n",
    "for size in batch_sizes:\n",
    "    tuner= kt.Hyperband(fmnist_tuner,\n",
    "                         objective='val_accuracy',\n",
    "                         max_epochs=20,\n",
    "                         factor=3,\n",
    "                         directory='models',\n",
    "                         project_name=f'fmnist_with_cnn_batch{size}')\n",
    "    stop_early = tf.keras.callbacks.EarlyStopping(monitor='val_loss', patience = 5)\n",
    "    \n",
    "    tuner.search(training_images, training_labels,\n",
    "                 epochs = 50,\n",
    "                 validation_split = 0.2,\n",
    "                 batch_size=size)\n",
    "    best_params = tuner.get_best_hyperparameters(num_trials=1)[0]\n",
    "    dense_output = best_params.get('dense_units')\n",
    "    learning_output = best_params.get('learning_rate')\n",
    "    filters_output = best_params.get('conv_units')\n",
    "    \n",
    "    batch_results = (f'batch_size = {size}',\n",
    "                     f'Dense units: {dense_output}',\n",
    "                     f'Learning rate: {learning_output}',\n",
    "                     f'Conv filters: {filters_output}'\n",
    ")\n",
    "    print(batch_results)\n",
    "    optimal_hyperparameters.append(batch_results)\n",
    "\n",
    "np.savetxt('optimal_hyperparameters.txt', \n",
    "           np.array(optimal_hyperparameters),\n",
    "           fmt=\"%s\")"
   ]
  },
  {
   "cell_type": "code",
   "execution_count": null,
   "id": "5ac1731b-6495-4450-bb56-6a8cf47d8b06",
   "metadata": {},
   "outputs": [],
   "source": []
  }
 ],
 "metadata": {
  "kernelspec": {
   "display_name": "Python 3",
   "language": "python",
   "name": "python3"
  },
  "language_info": {
   "codemirror_mode": {
    "name": "ipython",
    "version": 3
   },
   "file_extension": ".py",
   "mimetype": "text/x-python",
   "name": "python",
   "nbconvert_exporter": "python",
   "pygments_lexer": "ipython3",
   "version": "3.8.8"
  }
 },
 "nbformat": 4,
 "nbformat_minor": 5
}
