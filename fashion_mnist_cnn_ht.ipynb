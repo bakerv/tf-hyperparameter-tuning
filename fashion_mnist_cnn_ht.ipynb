{
 "cells": [
  {
   "cell_type": "code",
   "execution_count": 1,
   "id": "b95b6bdb-4de5-4ac0-8404-e536dc5c092a",
   "metadata": {},
   "outputs": [],
   "source": [
    "import keras_tuner as kt\n",
    "import matplotlib.pyplot as plt\n",
    "import numpy as np\n",
    "from pprint import pprint\n",
    "import tensorflow as tf\n",
    "from tensorflow import keras"
   ]
  },
  {
   "cell_type": "code",
   "execution_count": 2,
   "id": "253031be-690b-4797-aed8-af51e8046597",
   "metadata": {
    "tags": []
   },
   "outputs": [],
   "source": [
    "def fmnist_tuner(hyper_parameters):\n",
    "    # tuning parameters\n",
    "    conv_units = hyper_parameters.Int('conv_units',\n",
    "                                      min_value= 32,\n",
    "                                      max_value=128,\n",
    "                                      step = 32)\n",
    "    dense_units = hyper_parameters.Int('dense_units',\n",
    "                                       min_value=32,\n",
    "                                       max_value=256,\n",
    "                                       step=32)\n",
    "    test_learning_rates = hyper_parameters.Choice('learning_rate',\n",
    "                                                  values = [0.0001, 0.001, 0.01, 0.03,\n",
    "                                                            0.05, 0.08, 0.1, 0.3])\n",
    "    \n",
    "    #model to tune\n",
    "    model = keras.Sequential()\n",
    "    model.add(keras.layers.Conv2D(32, (3,3), activation='relu', input_shape=(28,28,1)))\n",
    "    model.add(keras.layers.MaxPooling2D(2,2))\n",
    "    model.add(keras.layers.Flatten(input_shape = (28,28,1)))\n",
    "   \n",
    "    model.add(keras.layers.Dense(units = dense_units, activation = 'relu'))\n",
    "    model.add(keras.layers.Dense(10, activation = 'softmax'))\n",
    "    \n",
    "    #optimizer tuning\n",
    "   \n",
    "    \n",
    "    model.compile(optimizer=keras.optimizers.Adadelta(learning_rate = test_learning_rates),\n",
    "                 loss='sparse_categorical_crossentropy',\n",
    "                 metrics=['accuracy'])\n",
    "    \n",
    "    return model  "
   ]
  },
  {
   "cell_type": "code",
   "execution_count": 3,
   "id": "a8fe588a-2e24-40e4-959c-188511f80a2e",
   "metadata": {},
   "outputs": [],
   "source": [
    "def plot_training(model_history, measure):\n",
    "    plt.plot(model_history.history[measure])\n",
    "    plt.plot(model_history.history['val_'+measure])\n",
    "    plt.xlabel('Epochs')\n",
    "    plt.ylabel(measure)\n",
    "    plt.legend(['training '+ measure,'validation '+ measure])\n",
    "    plt.show()\n",
    "\n"
   ]
  },
  {
   "cell_type": "code",
   "execution_count": 4,
   "id": "008eb035-bebc-43b9-b661-9ec1ed757724",
   "metadata": {},
   "outputs": [],
   "source": [
    "#import the dataset\n",
    "(training_images, training_labels),\\\n",
    "(validation_images, validation_labels) = keras.datasets.fashion_mnist.load_data()\n",
    "\n",
    "# Normalize the image data\n",
    "training_images = training_images.reshape(-1,28,28,1) / 255.0\n",
    "validation_images = validation_images.reshape(-1,28,28,1) /255.0"
   ]
  },
  {
   "cell_type": "code",
   "execution_count": 5,
   "id": "b437f991-643b-4410-b222-5b5129ea4775",
   "metadata": {},
   "outputs": [
    {
     "name": "stdout",
     "output_type": "stream",
     "text": [
      "(60000, 28, 28, 1)\n",
      "(60000,)\n",
      "(10000, 28, 28, 1)\n",
      "(10000,)\n"
     ]
    }
   ],
   "source": [
    "#verify data set shapes are as expected\n",
    "print(training_images.shape)\n",
    "print(training_labels.shape)\n",
    "print(validation_images.shape)\n",
    "print(validation_labels.shape)"
   ]
  },
  {
   "cell_type": "code",
   "execution_count": 6,
   "id": "61a7c1e3-c62f-4eb1-9821-145353b0594d",
   "metadata": {},
   "outputs": [],
   "source": [
    "\n",
    "#Keras model for image classification\n",
    "model = tf.keras.models.Sequential([\n",
    "    tf.keras.layers.Conv2D(32,(3,3), activation='relu', input_shape=(28,28,1)),\n",
    "    tf.keras.layers.MaxPooling2D(2,2),\n",
    "    tf.keras.layers.Flatten(),\n",
    "    tf.keras.layers.Dense(288, activation='relu'),\n",
    "    tf.keras.layers.Dense(288, activation='relu'),\n",
    "    tf.keras.layers.Dense(10, activation ='softmax')\n",
    "])\n",
    "\n",
    "model.compile(optimizer = keras.optimizers.RMSprop(learning_rate = 0.001),\n",
    "              loss ='sparse_categorical_crossentropy',\n",
    "              metrics = ['accuracy'])"
   ]
  },
  {
   "cell_type": "code",
   "execution_count": 22,
   "id": "1da64b76-3556-4eae-802d-2cb623fac4f1",
   "metadata": {},
   "outputs": [
    {
     "name": "stdout",
     "output_type": "stream",
     "text": [
      "Epoch 1/100\n",
      "15/15 [==============================] - 2s 84ms/step - loss: 1.2706 - accuracy: 0.5401 - val_loss: 0.7248 - val_accuracy: 0.7390\n",
      "Epoch 2/100\n",
      "15/15 [==============================] - 1s 75ms/step - loss: 0.6909 - accuracy: 0.7491 - val_loss: 0.6137 - val_accuracy: 0.7617\n",
      "Epoch 3/100\n",
      "15/15 [==============================] - 1s 76ms/step - loss: 0.5648 - accuracy: 0.7871 - val_loss: 0.5747 - val_accuracy: 0.7795\n",
      "Epoch 4/100\n",
      "15/15 [==============================] - 1s 75ms/step - loss: 0.5234 - accuracy: 0.8030 - val_loss: 0.5519 - val_accuracy: 0.7979\n",
      "Epoch 5/100\n",
      "15/15 [==============================] - 1s 75ms/step - loss: 0.4800 - accuracy: 0.8230 - val_loss: 0.4474 - val_accuracy: 0.8382\n",
      "Epoch 6/100\n",
      "15/15 [==============================] - 1s 76ms/step - loss: 0.4355 - accuracy: 0.8403 - val_loss: 0.4547 - val_accuracy: 0.8285\n",
      "Epoch 7/100\n",
      "15/15 [==============================] - 1s 75ms/step - loss: 0.4129 - accuracy: 0.8485 - val_loss: 0.4034 - val_accuracy: 0.8541\n",
      "Epoch 8/100\n",
      "15/15 [==============================] - 1s 75ms/step - loss: 0.3812 - accuracy: 0.8595 - val_loss: 0.3848 - val_accuracy: 0.8590\n",
      "Epoch 9/100\n",
      "15/15 [==============================] - 1s 75ms/step - loss: 0.3646 - accuracy: 0.8646 - val_loss: 0.3694 - val_accuracy: 0.8662\n",
      "Epoch 10/100\n",
      "15/15 [==============================] - 1s 75ms/step - loss: 0.3466 - accuracy: 0.8733 - val_loss: 0.3478 - val_accuracy: 0.8740\n",
      "Epoch 11/100\n",
      "15/15 [==============================] - 1s 76ms/step - loss: 0.3280 - accuracy: 0.8776 - val_loss: 0.3643 - val_accuracy: 0.8644\n",
      "Epoch 12/100\n",
      "15/15 [==============================] - 1s 75ms/step - loss: 0.3138 - accuracy: 0.8850 - val_loss: 0.3397 - val_accuracy: 0.8730\n",
      "Epoch 13/100\n",
      "15/15 [==============================] - 1s 75ms/step - loss: 0.3131 - accuracy: 0.8844 - val_loss: 0.3258 - val_accuracy: 0.8801\n",
      "Epoch 14/100\n",
      "15/15 [==============================] - 1s 74ms/step - loss: 0.2922 - accuracy: 0.8909 - val_loss: 0.3558 - val_accuracy: 0.8661\n",
      "Epoch 15/100\n",
      "15/15 [==============================] - 1s 75ms/step - loss: 0.2795 - accuracy: 0.8954 - val_loss: 0.3148 - val_accuracy: 0.8839\n",
      "Epoch 16/100\n",
      "15/15 [==============================] - 1s 75ms/step - loss: 0.2729 - accuracy: 0.8985 - val_loss: 0.3058 - val_accuracy: 0.8857\n",
      "Epoch 17/100\n",
      "15/15 [==============================] - 1s 75ms/step - loss: 0.2584 - accuracy: 0.9028 - val_loss: 0.3529 - val_accuracy: 0.8723\n",
      "Epoch 18/100\n",
      "15/15 [==============================] - 1s 75ms/step - loss: 0.2623 - accuracy: 0.9032 - val_loss: 0.2725 - val_accuracy: 0.8982\n",
      "Epoch 19/100\n",
      "15/15 [==============================] - 1s 76ms/step - loss: 0.2457 - accuracy: 0.9096 - val_loss: 0.2934 - val_accuracy: 0.8912\n",
      "Epoch 20/100\n",
      "15/15 [==============================] - 1s 75ms/step - loss: 0.2414 - accuracy: 0.9100 - val_loss: 0.3217 - val_accuracy: 0.8807\n",
      "Epoch 21/100\n",
      "15/15 [==============================] - 1s 75ms/step - loss: 0.2335 - accuracy: 0.9129 - val_loss: 0.2732 - val_accuracy: 0.8968\n",
      "Epoch 22/100\n",
      "15/15 [==============================] - 1s 75ms/step - loss: 0.2269 - accuracy: 0.9140 - val_loss: 0.2888 - val_accuracy: 0.8933\n",
      "Epoch 23/100\n",
      "15/15 [==============================] - 1s 76ms/step - loss: 0.2180 - accuracy: 0.9179 - val_loss: 0.2866 - val_accuracy: 0.8961\n",
      "Epoch 24/100\n",
      "15/15 [==============================] - 1s 75ms/step - loss: 0.2102 - accuracy: 0.9215 - val_loss: 0.2889 - val_accuracy: 0.8909\n",
      "Epoch 25/100\n",
      "15/15 [==============================] - 1s 75ms/step - loss: 0.2095 - accuracy: 0.9220 - val_loss: 0.2908 - val_accuracy: 0.8945\n",
      "Epoch 26/100\n",
      "15/15 [==============================] - 1s 75ms/step - loss: 0.2057 - accuracy: 0.9220 - val_loss: 0.2789 - val_accuracy: 0.8969\n",
      "Epoch 27/100\n",
      "15/15 [==============================] - 1s 76ms/step - loss: 0.1989 - accuracy: 0.9247 - val_loss: 0.2528 - val_accuracy: 0.9063\n",
      "Epoch 28/100\n",
      "15/15 [==============================] - 1s 75ms/step - loss: 0.1901 - accuracy: 0.9299 - val_loss: 0.2907 - val_accuracy: 0.8938\n",
      "Epoch 29/100\n",
      "15/15 [==============================] - 1s 75ms/step - loss: 0.1872 - accuracy: 0.9294 - val_loss: 0.2478 - val_accuracy: 0.9115\n",
      "Epoch 30/100\n",
      "15/15 [==============================] - 1s 74ms/step - loss: 0.1810 - accuracy: 0.9321 - val_loss: 0.2813 - val_accuracy: 0.9007\n",
      "Epoch 31/100\n",
      "15/15 [==============================] - 1s 74ms/step - loss: 0.1783 - accuracy: 0.9330 - val_loss: 0.2780 - val_accuracy: 0.8971\n",
      "Epoch 32/100\n",
      "15/15 [==============================] - 1s 75ms/step - loss: 0.1691 - accuracy: 0.9370 - val_loss: 0.2699 - val_accuracy: 0.9026\n",
      "Epoch 33/100\n",
      "15/15 [==============================] - 1s 75ms/step - loss: 0.1706 - accuracy: 0.9346 - val_loss: 0.2756 - val_accuracy: 0.9073\n",
      "Epoch 34/100\n",
      "15/15 [==============================] - 1s 75ms/step - loss: 0.1656 - accuracy: 0.9376 - val_loss: 0.2544 - val_accuracy: 0.9102\n",
      "Epoch 35/100\n",
      "15/15 [==============================] - 1s 75ms/step - loss: 0.1577 - accuracy: 0.9421 - val_loss: 0.2847 - val_accuracy: 0.9007\n",
      "Epoch 36/100\n",
      "15/15 [==============================] - 1s 75ms/step - loss: 0.1585 - accuracy: 0.9402 - val_loss: 0.2606 - val_accuracy: 0.9085\n",
      "Epoch 37/100\n",
      "15/15 [==============================] - 1s 74ms/step - loss: 0.1537 - accuracy: 0.9430 - val_loss: 0.2698 - val_accuracy: 0.9058\n",
      "Epoch 38/100\n",
      "15/15 [==============================] - 1s 75ms/step - loss: 0.1472 - accuracy: 0.9444 - val_loss: 0.2469 - val_accuracy: 0.9136\n",
      "Epoch 39/100\n",
      "15/15 [==============================] - 1s 75ms/step - loss: 0.1429 - accuracy: 0.9460 - val_loss: 0.2860 - val_accuracy: 0.8979\n",
      "Epoch 40/100\n",
      "15/15 [==============================] - 1s 75ms/step - loss: 0.1410 - accuracy: 0.9478 - val_loss: 0.2523 - val_accuracy: 0.9107\n",
      "Epoch 41/100\n",
      "15/15 [==============================] - 1s 75ms/step - loss: 0.1346 - accuracy: 0.9507 - val_loss: 0.2406 - val_accuracy: 0.9150\n",
      "Epoch 42/100\n",
      "15/15 [==============================] - 1s 75ms/step - loss: 0.1309 - accuracy: 0.9504 - val_loss: 0.2492 - val_accuracy: 0.9137\n",
      "Epoch 43/100\n",
      "15/15 [==============================] - 1s 75ms/step - loss: 0.1303 - accuracy: 0.9512 - val_loss: 0.2564 - val_accuracy: 0.9147\n",
      "Epoch 44/100\n",
      "15/15 [==============================] - 1s 75ms/step - loss: 0.1242 - accuracy: 0.9534 - val_loss: 0.2472 - val_accuracy: 0.9183\n",
      "Epoch 45/100\n",
      "15/15 [==============================] - 1s 75ms/step - loss: 0.1234 - accuracy: 0.9546 - val_loss: 0.3109 - val_accuracy: 0.8967\n",
      "Epoch 46/100\n",
      "15/15 [==============================] - 1s 76ms/step - loss: 0.1177 - accuracy: 0.9562 - val_loss: 0.3682 - val_accuracy: 0.8864\n",
      "Epoch 47/100\n",
      "15/15 [==============================] - 1s 75ms/step - loss: 0.1197 - accuracy: 0.9553 - val_loss: 0.3144 - val_accuracy: 0.9006\n",
      "Epoch 48/100\n",
      "15/15 [==============================] - 1s 74ms/step - loss: 0.1145 - accuracy: 0.9584 - val_loss: 0.2729 - val_accuracy: 0.9123\n",
      "Epoch 49/100\n",
      "15/15 [==============================] - 1s 76ms/step - loss: 0.1050 - accuracy: 0.9604 - val_loss: 0.2669 - val_accuracy: 0.9135\n",
      "Epoch 50/100\n",
      "15/15 [==============================] - 1s 75ms/step - loss: 0.1001 - accuracy: 0.9624 - val_loss: 0.2584 - val_accuracy: 0.9175\n",
      "Epoch 51/100\n",
      "15/15 [==============================] - ETA: 0s - loss: 0.1021 - accuracy: 0.9633"
     ]
    },
    {
     "ename": "ResourceExhaustedError",
     "evalue": "2 root error(s) found.\n  (0) Resource exhausted:  OOM when allocating tensor with shape[2000,28,28,1] and type float on /job:localhost/replica:0/task:0/device:CPU:0 by allocator cpu\n\t [[{{node GatherV2}}]]\n\t [[IteratorGetNext]]\nHint: If you want to see a list of allocated tensors when OOM happens, add report_tensor_allocations_upon_oom to RunOptions for current allocation info.\n\n  (1) Resource exhausted:  OOM when allocating tensor with shape[2000,28,28,1] and type float on /job:localhost/replica:0/task:0/device:CPU:0 by allocator cpu\n\t [[{{node GatherV2}}]]\n\t [[IteratorGetNext]]\nHint: If you want to see a list of allocated tensors when OOM happens, add report_tensor_allocations_upon_oom to RunOptions for current allocation info.\n\n\t [[IteratorGetNext/_2]]\nHint: If you want to see a list of allocated tensors when OOM happens, add report_tensor_allocations_upon_oom to RunOptions for current allocation info.\n\n0 successful operations.\n0 derived errors ignored. [Op:__inference_test_function_56085]\n\nFunction call stack:\ntest_function -> test_function\n",
     "output_type": "error",
     "traceback": [
      "\u001b[1;31m---------------------------------------------------------------------------\u001b[0m",
      "\u001b[1;31mResourceExhaustedError\u001b[0m                    Traceback (most recent call last)",
      "\u001b[1;32m<ipython-input-22-b7145afd8c6d>\u001b[0m in \u001b[0;36m<module>\u001b[1;34m\u001b[0m\n\u001b[1;32m----> 1\u001b[1;33m history = model.fit(training_images, \n\u001b[0m\u001b[0;32m      2\u001b[0m                     \u001b[0mtraining_labels\u001b[0m\u001b[1;33m,\u001b[0m\u001b[1;33m\u001b[0m\u001b[1;33m\u001b[0m\u001b[0m\n\u001b[0;32m      3\u001b[0m                     \u001b[0mvalidation_data\u001b[0m \u001b[1;33m=\u001b[0m \u001b[1;33m(\u001b[0m\u001b[0mvalidation_images\u001b[0m\u001b[1;33m,\u001b[0m \u001b[0mvalidation_labels\u001b[0m\u001b[1;33m)\u001b[0m\u001b[1;33m,\u001b[0m\u001b[1;33m\u001b[0m\u001b[1;33m\u001b[0m\u001b[0m\n\u001b[0;32m      4\u001b[0m                     \u001b[0mepochs\u001b[0m\u001b[1;33m=\u001b[0m\u001b[1;36m100\u001b[0m\u001b[1;33m,\u001b[0m\u001b[1;33m\u001b[0m\u001b[1;33m\u001b[0m\u001b[0m\n\u001b[0;32m      5\u001b[0m                     \u001b[0mbatch_size\u001b[0m \u001b[1;33m=\u001b[0m \u001b[1;36m4000\u001b[0m\u001b[1;33m,\u001b[0m\u001b[1;33m\u001b[0m\u001b[1;33m\u001b[0m\u001b[0m\n",
      "\u001b[1;32m~\\anaconda3\\lib\\site-packages\\tensorflow\\python\\keras\\engine\\training.py\u001b[0m in \u001b[0;36mfit\u001b[1;34m(self, x, y, batch_size, epochs, verbose, callbacks, validation_split, validation_data, shuffle, class_weight, sample_weight, initial_epoch, steps_per_epoch, validation_steps, validation_batch_size, validation_freq, max_queue_size, workers, use_multiprocessing)\u001b[0m\n\u001b[0;32m   1212\u001b[0m                 \u001b[0mmodel\u001b[0m\u001b[1;33m=\u001b[0m\u001b[0mself\u001b[0m\u001b[1;33m,\u001b[0m\u001b[1;33m\u001b[0m\u001b[1;33m\u001b[0m\u001b[0m\n\u001b[0;32m   1213\u001b[0m                 steps_per_execution=self._steps_per_execution)\n\u001b[1;32m-> 1214\u001b[1;33m           val_logs = self.evaluate(\n\u001b[0m\u001b[0;32m   1215\u001b[0m               \u001b[0mx\u001b[0m\u001b[1;33m=\u001b[0m\u001b[0mval_x\u001b[0m\u001b[1;33m,\u001b[0m\u001b[1;33m\u001b[0m\u001b[1;33m\u001b[0m\u001b[0m\n\u001b[0;32m   1216\u001b[0m               \u001b[0my\u001b[0m\u001b[1;33m=\u001b[0m\u001b[0mval_y\u001b[0m\u001b[1;33m,\u001b[0m\u001b[1;33m\u001b[0m\u001b[1;33m\u001b[0m\u001b[0m\n",
      "\u001b[1;32m~\\anaconda3\\lib\\site-packages\\tensorflow\\python\\keras\\engine\\training.py\u001b[0m in \u001b[0;36mevaluate\u001b[1;34m(self, x, y, batch_size, verbose, sample_weight, steps, callbacks, max_queue_size, workers, use_multiprocessing, return_dict, **kwargs)\u001b[0m\n\u001b[0;32m   1487\u001b[0m             \u001b[1;32mwith\u001b[0m \u001b[0mtrace\u001b[0m\u001b[1;33m.\u001b[0m\u001b[0mTrace\u001b[0m\u001b[1;33m(\u001b[0m\u001b[1;34m'test'\u001b[0m\u001b[1;33m,\u001b[0m \u001b[0mstep_num\u001b[0m\u001b[1;33m=\u001b[0m\u001b[0mstep\u001b[0m\u001b[1;33m,\u001b[0m \u001b[0m_r\u001b[0m\u001b[1;33m=\u001b[0m\u001b[1;36m1\u001b[0m\u001b[1;33m)\u001b[0m\u001b[1;33m:\u001b[0m\u001b[1;33m\u001b[0m\u001b[1;33m\u001b[0m\u001b[0m\n\u001b[0;32m   1488\u001b[0m               \u001b[0mcallbacks\u001b[0m\u001b[1;33m.\u001b[0m\u001b[0mon_test_batch_begin\u001b[0m\u001b[1;33m(\u001b[0m\u001b[0mstep\u001b[0m\u001b[1;33m)\u001b[0m\u001b[1;33m\u001b[0m\u001b[1;33m\u001b[0m\u001b[0m\n\u001b[1;32m-> 1489\u001b[1;33m               \u001b[0mtmp_logs\u001b[0m \u001b[1;33m=\u001b[0m \u001b[0mself\u001b[0m\u001b[1;33m.\u001b[0m\u001b[0mtest_function\u001b[0m\u001b[1;33m(\u001b[0m\u001b[0miterator\u001b[0m\u001b[1;33m)\u001b[0m\u001b[1;33m\u001b[0m\u001b[1;33m\u001b[0m\u001b[0m\n\u001b[0m\u001b[0;32m   1490\u001b[0m               \u001b[1;32mif\u001b[0m \u001b[0mdata_handler\u001b[0m\u001b[1;33m.\u001b[0m\u001b[0mshould_sync\u001b[0m\u001b[1;33m:\u001b[0m\u001b[1;33m\u001b[0m\u001b[1;33m\u001b[0m\u001b[0m\n\u001b[0;32m   1491\u001b[0m                 \u001b[0mcontext\u001b[0m\u001b[1;33m.\u001b[0m\u001b[0masync_wait\u001b[0m\u001b[1;33m(\u001b[0m\u001b[1;33m)\u001b[0m\u001b[1;33m\u001b[0m\u001b[1;33m\u001b[0m\u001b[0m\n",
      "\u001b[1;32m~\\anaconda3\\lib\\site-packages\\tensorflow\\python\\eager\\def_function.py\u001b[0m in \u001b[0;36m__call__\u001b[1;34m(self, *args, **kwds)\u001b[0m\n\u001b[0;32m    887\u001b[0m \u001b[1;33m\u001b[0m\u001b[0m\n\u001b[0;32m    888\u001b[0m       \u001b[1;32mwith\u001b[0m \u001b[0mOptionalXlaContext\u001b[0m\u001b[1;33m(\u001b[0m\u001b[0mself\u001b[0m\u001b[1;33m.\u001b[0m\u001b[0m_jit_compile\u001b[0m\u001b[1;33m)\u001b[0m\u001b[1;33m:\u001b[0m\u001b[1;33m\u001b[0m\u001b[1;33m\u001b[0m\u001b[0m\n\u001b[1;32m--> 889\u001b[1;33m         \u001b[0mresult\u001b[0m \u001b[1;33m=\u001b[0m \u001b[0mself\u001b[0m\u001b[1;33m.\u001b[0m\u001b[0m_call\u001b[0m\u001b[1;33m(\u001b[0m\u001b[1;33m*\u001b[0m\u001b[0margs\u001b[0m\u001b[1;33m,\u001b[0m \u001b[1;33m**\u001b[0m\u001b[0mkwds\u001b[0m\u001b[1;33m)\u001b[0m\u001b[1;33m\u001b[0m\u001b[1;33m\u001b[0m\u001b[0m\n\u001b[0m\u001b[0;32m    890\u001b[0m \u001b[1;33m\u001b[0m\u001b[0m\n\u001b[0;32m    891\u001b[0m       \u001b[0mnew_tracing_count\u001b[0m \u001b[1;33m=\u001b[0m \u001b[0mself\u001b[0m\u001b[1;33m.\u001b[0m\u001b[0mexperimental_get_tracing_count\u001b[0m\u001b[1;33m(\u001b[0m\u001b[1;33m)\u001b[0m\u001b[1;33m\u001b[0m\u001b[1;33m\u001b[0m\u001b[0m\n",
      "\u001b[1;32m~\\anaconda3\\lib\\site-packages\\tensorflow\\python\\eager\\def_function.py\u001b[0m in \u001b[0;36m_call\u001b[1;34m(self, *args, **kwds)\u001b[0m\n\u001b[0;32m    922\u001b[0m       \u001b[1;31m# In this case we have not created variables on the first call. So we can\u001b[0m\u001b[1;33m\u001b[0m\u001b[1;33m\u001b[0m\u001b[1;33m\u001b[0m\u001b[0m\n\u001b[0;32m    923\u001b[0m       \u001b[1;31m# run the first trace but we should fail if variables are created.\u001b[0m\u001b[1;33m\u001b[0m\u001b[1;33m\u001b[0m\u001b[1;33m\u001b[0m\u001b[0m\n\u001b[1;32m--> 924\u001b[1;33m       \u001b[0mresults\u001b[0m \u001b[1;33m=\u001b[0m \u001b[0mself\u001b[0m\u001b[1;33m.\u001b[0m\u001b[0m_stateful_fn\u001b[0m\u001b[1;33m(\u001b[0m\u001b[1;33m*\u001b[0m\u001b[0margs\u001b[0m\u001b[1;33m,\u001b[0m \u001b[1;33m**\u001b[0m\u001b[0mkwds\u001b[0m\u001b[1;33m)\u001b[0m\u001b[1;33m\u001b[0m\u001b[1;33m\u001b[0m\u001b[0m\n\u001b[0m\u001b[0;32m    925\u001b[0m       \u001b[1;32mif\u001b[0m \u001b[0mself\u001b[0m\u001b[1;33m.\u001b[0m\u001b[0m_created_variables\u001b[0m\u001b[1;33m:\u001b[0m\u001b[1;33m\u001b[0m\u001b[1;33m\u001b[0m\u001b[0m\n\u001b[0;32m    926\u001b[0m         raise ValueError(\"Creating variables on a non-first call to a function\"\n",
      "\u001b[1;32m~\\anaconda3\\lib\\site-packages\\tensorflow\\python\\eager\\function.py\u001b[0m in \u001b[0;36m__call__\u001b[1;34m(self, *args, **kwargs)\u001b[0m\n\u001b[0;32m   3021\u001b[0m       (graph_function,\n\u001b[0;32m   3022\u001b[0m        filtered_flat_args) = self._maybe_define_function(args, kwargs)\n\u001b[1;32m-> 3023\u001b[1;33m     return graph_function._call_flat(\n\u001b[0m\u001b[0;32m   3024\u001b[0m         filtered_flat_args, captured_inputs=graph_function.captured_inputs)  # pylint: disable=protected-access\n\u001b[0;32m   3025\u001b[0m \u001b[1;33m\u001b[0m\u001b[0m\n",
      "\u001b[1;32m~\\anaconda3\\lib\\site-packages\\tensorflow\\python\\eager\\function.py\u001b[0m in \u001b[0;36m_call_flat\u001b[1;34m(self, args, captured_inputs, cancellation_manager)\u001b[0m\n\u001b[0;32m   1958\u001b[0m         and executing_eagerly):\n\u001b[0;32m   1959\u001b[0m       \u001b[1;31m# No tape is watching; skip to running the function.\u001b[0m\u001b[1;33m\u001b[0m\u001b[1;33m\u001b[0m\u001b[1;33m\u001b[0m\u001b[0m\n\u001b[1;32m-> 1960\u001b[1;33m       return self._build_call_outputs(self._inference_function.call(\n\u001b[0m\u001b[0;32m   1961\u001b[0m           ctx, args, cancellation_manager=cancellation_manager))\n\u001b[0;32m   1962\u001b[0m     forward_backward = self._select_forward_and_backward_functions(\n",
      "\u001b[1;32m~\\anaconda3\\lib\\site-packages\\tensorflow\\python\\eager\\function.py\u001b[0m in \u001b[0;36mcall\u001b[1;34m(self, ctx, args, cancellation_manager)\u001b[0m\n\u001b[0;32m    589\u001b[0m       \u001b[1;32mwith\u001b[0m \u001b[0m_InterpolateFunctionError\u001b[0m\u001b[1;33m(\u001b[0m\u001b[0mself\u001b[0m\u001b[1;33m)\u001b[0m\u001b[1;33m:\u001b[0m\u001b[1;33m\u001b[0m\u001b[1;33m\u001b[0m\u001b[0m\n\u001b[0;32m    590\u001b[0m         \u001b[1;32mif\u001b[0m \u001b[0mcancellation_manager\u001b[0m \u001b[1;32mis\u001b[0m \u001b[1;32mNone\u001b[0m\u001b[1;33m:\u001b[0m\u001b[1;33m\u001b[0m\u001b[1;33m\u001b[0m\u001b[0m\n\u001b[1;32m--> 591\u001b[1;33m           outputs = execute.execute(\n\u001b[0m\u001b[0;32m    592\u001b[0m               \u001b[0mstr\u001b[0m\u001b[1;33m(\u001b[0m\u001b[0mself\u001b[0m\u001b[1;33m.\u001b[0m\u001b[0msignature\u001b[0m\u001b[1;33m.\u001b[0m\u001b[0mname\u001b[0m\u001b[1;33m)\u001b[0m\u001b[1;33m,\u001b[0m\u001b[1;33m\u001b[0m\u001b[1;33m\u001b[0m\u001b[0m\n\u001b[0;32m    593\u001b[0m               \u001b[0mnum_outputs\u001b[0m\u001b[1;33m=\u001b[0m\u001b[0mself\u001b[0m\u001b[1;33m.\u001b[0m\u001b[0m_num_outputs\u001b[0m\u001b[1;33m,\u001b[0m\u001b[1;33m\u001b[0m\u001b[1;33m\u001b[0m\u001b[0m\n",
      "\u001b[1;32m~\\anaconda3\\lib\\site-packages\\tensorflow\\python\\eager\\execute.py\u001b[0m in \u001b[0;36mquick_execute\u001b[1;34m(op_name, num_outputs, inputs, attrs, ctx, name)\u001b[0m\n\u001b[0;32m     57\u001b[0m   \u001b[1;32mtry\u001b[0m\u001b[1;33m:\u001b[0m\u001b[1;33m\u001b[0m\u001b[1;33m\u001b[0m\u001b[0m\n\u001b[0;32m     58\u001b[0m     \u001b[0mctx\u001b[0m\u001b[1;33m.\u001b[0m\u001b[0mensure_initialized\u001b[0m\u001b[1;33m(\u001b[0m\u001b[1;33m)\u001b[0m\u001b[1;33m\u001b[0m\u001b[1;33m\u001b[0m\u001b[0m\n\u001b[1;32m---> 59\u001b[1;33m     tensors = pywrap_tfe.TFE_Py_Execute(ctx._handle, device_name, op_name,\n\u001b[0m\u001b[0;32m     60\u001b[0m                                         inputs, attrs, num_outputs)\n\u001b[0;32m     61\u001b[0m   \u001b[1;32mexcept\u001b[0m \u001b[0mcore\u001b[0m\u001b[1;33m.\u001b[0m\u001b[0m_NotOkStatusException\u001b[0m \u001b[1;32mas\u001b[0m \u001b[0me\u001b[0m\u001b[1;33m:\u001b[0m\u001b[1;33m\u001b[0m\u001b[1;33m\u001b[0m\u001b[0m\n",
      "\u001b[1;31mResourceExhaustedError\u001b[0m: 2 root error(s) found.\n  (0) Resource exhausted:  OOM when allocating tensor with shape[2000,28,28,1] and type float on /job:localhost/replica:0/task:0/device:CPU:0 by allocator cpu\n\t [[{{node GatherV2}}]]\n\t [[IteratorGetNext]]\nHint: If you want to see a list of allocated tensors when OOM happens, add report_tensor_allocations_upon_oom to RunOptions for current allocation info.\n\n  (1) Resource exhausted:  OOM when allocating tensor with shape[2000,28,28,1] and type float on /job:localhost/replica:0/task:0/device:CPU:0 by allocator cpu\n\t [[{{node GatherV2}}]]\n\t [[IteratorGetNext]]\nHint: If you want to see a list of allocated tensors when OOM happens, add report_tensor_allocations_upon_oom to RunOptions for current allocation info.\n\n\t [[IteratorGetNext/_2]]\nHint: If you want to see a list of allocated tensors when OOM happens, add report_tensor_allocations_upon_oom to RunOptions for current allocation info.\n\n0 successful operations.\n0 derived errors ignored. [Op:__inference_test_function_56085]\n\nFunction call stack:\ntest_function -> test_function\n"
     ]
    }
   ],
   "source": [
    "history = model.fit(training_images, \n",
    "                    training_labels,\n",
    "                    validation_data = (validation_images, validation_labels),\n",
    "                    epochs=100,\n",
    "                    batch_size = 4000,\n",
    "                    verbose=1\n",
    "                   )"
   ]
  },
  {
   "cell_type": "code",
   "execution_count": 20,
   "id": "f1894750-c6f9-42cc-a7b0-96401d5e3424",
   "metadata": {},
   "outputs": [
    {
     "data": {
      "image/png": "[encoded data removed]",
      "text/plain": [
       "<Figure size 432x288 with 1 Axes>"
      ]
     },
     "metadata": {
      "needs_background": "light"
     },
     "output_type": "display_data"
    },
    {
     "data": {
      "image/png": "[encoded data removed]",
      "text/plain": [
       "<Figure size 432x288 with 1 Axes>"
      ]
     },
     "metadata": {
      "needs_background": "light"
     },
     "output_type": "display_data"
    }
   ],
   "source": [
    "plot_training(history, 'accuracy')\n",
    "plot_training(history, 'loss')"
   ]
  },
  {
   "cell_type": "code",
   "execution_count": null,
   "id": "f69b54d6-bc57-4b8d-a94b-1a68d66ecb4a",
   "metadata": {},
   "outputs": [],
   "source": [
    "batch_sizes=[6000,4000,3000,2000,1500,1000,750,500,250,200,125,100,50,25]\n",
    "\n",
    "optimal_hyperparameters = []\n",
    "\n",
    "for size in batch_sizes:\n",
    "    tuner= kt.Hyperband(fmnist_tuner,\n",
    "                         objective='val_accuracy',\n",
    "                         max_epochs=20,\n",
    "                         factor=3,\n",
    "                         directory='models',\n",
    "                         project_name=f'fmnist_with_cnn_batch{size}')\n",
    "    stop_early = tf.keras.callbacks.EarlyStopping(monitor='val_loss', patience = 5)\n",
    "    \n",
    "    tuner.search(training_images, training_labels,\n",
    "                 epochs = 50,\n",
    "                 validation_split = 0.2,\n",
    "                 batch_size=size)\n",
    "    best_params = tuner.get_best_hyperparameters(num_trials=1)[0]\n",
    "    dense_output = best_params.get('dense_units')\n",
    "    learning_output = best_params.get('learning_rate')\n",
    "    filters_output = best_params.get('conv_units')\n",
    "    \n",
    "    batch_results = (f'batch_size = {size}',\n",
    "                     f'Dense units: {dense_output}',\n",
    "                     f'Learning rate: {learning_output}',\n",
    "                     f'Conv filters: {filters_output}'\n",
    ")\n",
    "    print(batch_results)\n",
    "    optimal_hyperparameters.append(batch_results)\n",
    "\n",
    "np.savetxt('optimal_hyperparameters.txt', \n",
    "           np.array(optimal_hyperparameters),\n",
    "           fmt=\"%s\")"
   ]
  },
  {
   "cell_type": "code",
   "execution_count": null,
   "id": "5ac1731b-6495-4450-bb56-6a8cf47d8b06",
   "metadata": {},
   "outputs": [],
   "source": []
  }
 ],
 "metadata": {
  "kernelspec": {
   "display_name": "Python 3",
   "language": "python",
   "name": "python3"
  },
  "language_info": {
   "codemirror_mode": {
    "name": "ipython",
    "version": 3
   },
   "file_extension": ".py",
   "mimetype": "text/x-python",
   "name": "python",
   "nbconvert_exporter": "python",
   "pygments_lexer": "ipython3",
   "version": "3.8.8"
  }
 },
 "nbformat": 4,
 "nbformat_minor": 5
}
