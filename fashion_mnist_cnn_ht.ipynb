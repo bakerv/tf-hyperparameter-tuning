{
 "cells": [
  {
   "cell_type": "code",
   "execution_count": 13,
   "id": "b95b6bdb-4de5-4ac0-8404-e536dc5c092a",
   "metadata": {},
   "outputs": [],
   "source": [
    "import keras_tuner as kt\n",
    "import matplotlib.pyplot as plt\n",
    "import numpy as np\n",
    "from pprint import pprint\n",
    "import tensorflow as tf\n",
    "from tensorflow import keras"
   ]
  },
  {
   "cell_type": "code",
   "execution_count": 14,
   "id": "9a0fca4f-9a65-4b53-a3e7-1daf98c178c6",
   "metadata": {},
   "outputs": [
    {
     "name": "stdout",
     "output_type": "stream",
     "text": [
      "1 Physical GPUs, 1 Logical GPUs\n"
     ]
    }
   ],
   "source": [
    "# taken directly from\n",
    "gpus = tf.config.list_physical_devices('GPU')\n",
    "if gpus:\n",
    "  # Restrict TensorFlow to only allocate 1GB of memory on the first GPU\n",
    "  try:\n",
    "    tf.config.set_logical_device_configuration(\n",
    "        gpus[0],\n",
    "        [tf.config.LogicalDeviceConfiguration(memory_limit=1024)])\n",
    "    logical_gpus = tf.config.list_logical_devices('GPU')\n",
    "    print(len(gpus), \"Physical GPUs,\", len(logical_gpus), \"Logical GPUs\")\n",
    "  except RuntimeError as e:\n",
    "    # Virtual devices must be set before GPUs have been initialized\n",
    "    print(e)\n"
   ]
  },
  {
   "cell_type": "code",
   "execution_count": 15,
   "id": "253031be-690b-4797-aed8-af51e8046597",
   "metadata": {
    "tags": []
   },
   "outputs": [],
   "source": [
    "def fmnist_tuner(hyper_parameters):\n",
    "    # tuning parameters\n",
    "    conv_units = hyper_parameters.Int('conv_units',\n",
    "                                      min_value= 32,\n",
    "                                      max_value=128,\n",
    "                                      step = 32)\n",
    "    dense_units = hyper_parameters.Int('dense_units',\n",
    "                                       min_value=32,\n",
    "                                       max_value=256,\n",
    "                                       step=32)\n",
    "    test_learning_rates = hyper_parameters.Choice('learning_rate',\n",
    "                                                  values = [0.0001, 0.001, 0.01, 0.03,\n",
    "                                                            0.05, 0.08, 0.1, 0.3])\n",
    "    \n",
    "    #model to tune\n",
    "    model = keras.Sequential()\n",
    "    model.add(keras.layers.Conv2D(32, (3,3), activation='relu', input_shape=(28,28,1)))\n",
    "    model.add(keras.layers.MaxPooling2D(2,2))\n",
    "    model.add(keras.layers.Flatten(input_shape = (28,28,1)))\n",
    "   \n",
    "    model.add(keras.layers.Dense(units = dense_units, activation = 'relu'))\n",
    "    model.add(keras.layers.Dense(10, activation = 'softmax'))\n",
    "    \n",
    "    #optimizer tuning\n",
    "   \n",
    "    \n",
    "    model.compile(optimizer=keras.optimizers.Adadelta(learning_rate = test_learning_rates),\n",
    "                 loss='sparse_categorical_crossentropy',\n",
    "                 metrics=['accuracy'])\n",
    "    \n",
    "    return model  "
   ]
  },
  {
   "cell_type": "code",
   "execution_count": 16,
   "id": "a8fe588a-2e24-40e4-959c-188511f80a2e",
   "metadata": {},
   "outputs": [],
   "source": [
    "def plot_training(model_history, measure):\n",
    "    plt.plot(model_history.history[measure])\n",
    "    plt.plot(model_history.history['val_'+measure])\n",
    "    plt.xlabel('Epochs')\n",
    "    plt.ylabel(measure)\n",
    "    plt.legend(['training '+ measure,'validation '+ measure])\n",
    "    plt.show()\n",
    "\n"
   ]
  },
  {
   "cell_type": "code",
   "execution_count": 17,
   "id": "008eb035-bebc-43b9-b661-9ec1ed757724",
   "metadata": {},
   "outputs": [],
   "source": [
    "#import the dataset\n",
    "(training_images, training_labels),\\\n",
    "(validation_images, validation_labels) = keras.datasets.fashion_mnist.load_data()\n",
    "\n",
    "# Normalize the image data\n",
    "training_images = training_images.reshape(-1,28,28,1) / 255.0\n",
    "validation_images = validation_images.reshape(-1,28,28,1) /255.0"
   ]
  },
  {
   "cell_type": "code",
   "execution_count": 18,
   "id": "b437f991-643b-4410-b222-5b5129ea4775",
   "metadata": {},
   "outputs": [
    {
     "name": "stdout",
     "output_type": "stream",
     "text": [
      "(60000, 28, 28, 1)\n",
      "(60000,)\n",
      "(10000, 28, 28, 1)\n",
      "(10000,)\n"
     ]
    }
   ],
   "source": [
    "#verify data set shapes are as expected\n",
    "print(training_images.shape)\n",
    "print(training_labels.shape)\n",
    "print(validation_images.shape)\n",
    "print(validation_labels.shape)"
   ]
  },
  {
   "cell_type": "code",
   "execution_count": 32,
   "id": "61a7c1e3-c62f-4eb1-9821-145353b0594d",
   "metadata": {},
   "outputs": [],
   "source": [
    "#Keras model for image classification\n",
    "model = tf.keras.models.Sequential([\n",
    "    tf.keras.layers.Conv2D(32,(3,3), activation='relu', input_shape=(28,28,1)),\n",
    "    tf.keras.layers.MaxPooling2D(2,2),\n",
    "    tf.keras.layers.Flatten(),\n",
    "    tf.keras.layers.Dense(288, activation='relu'),\n",
    "    tf.keras.layers.Dense(10, activation ='softmax')\n",
    "])\n",
    "\n",
    "model.compile(optimizer = keras.optimizers.Nadam(learning_rate = 0.001),\n",
    "              loss ='sparse_categorical_crossentropy',\n",
    "              metrics = ['accuracy'])"
   ]
  },
  {
   "cell_type": "code",
   "execution_count": 33,
   "id": "f96f45ce-7175-413e-8439-524d28cca84f",
   "metadata": {},
   "outputs": [
    {
     "name": "stdout",
     "output_type": "stream",
     "text": [
      "Model: \"sequential_6\"\n",
      "_________________________________________________________________\n",
      "Layer (type)                 Output Shape              Param #   \n",
      "=================================================================\n",
      "conv2d_6 (Conv2D)            (None, 26, 26, 32)        320       \n",
      "_________________________________________________________________\n",
      "max_pooling2d_6 (MaxPooling2 (None, 13, 13, 32)        0         \n",
      "_________________________________________________________________\n",
      "flatten_6 (Flatten)          (None, 5408)              0         \n",
      "_________________________________________________________________\n",
      "dense_12 (Dense)             (None, 288)               1557792   \n",
      "_________________________________________________________________\n",
      "dense_13 (Dense)             (None, 10)                2890      \n",
      "=================================================================\n",
      "Total params: 1,561,002\n",
      "Trainable params: 1,561,002\n",
      "Non-trainable params: 0\n",
      "_________________________________________________________________\n"
     ]
    }
   ],
   "source": [
    "model.summary()"
   ]
  },
  {
   "cell_type": "code",
   "execution_count": 34,
   "id": "1da64b76-3556-4eae-802d-2cb623fac4f1",
   "metadata": {
    "jupyter": {
     "source_hidden": true
    },
    "tags": []
   },
   "outputs": [
    {
     "name": "stdout",
     "output_type": "stream",
     "text": [
      "Epoch 1/100\n",
      "30/30 [==============================] - 2s 45ms/step - loss: 1.0458 - accuracy: 0.6395 - val_loss: 0.6830 - val_accuracy: 0.7544\n",
      "Epoch 2/100\n",
      "30/30 [==============================] - 1s 42ms/step - loss: 0.5744 - accuracy: 0.7932 - val_loss: 0.4995 - val_accuracy: 0.8255\n",
      "Epoch 3/100\n",
      "30/30 [==============================] - 1s 41ms/step - loss: 0.4853 - accuracy: 0.8270 - val_loss: 0.4640 - val_accuracy: 0.8350\n",
      "Epoch 4/100\n",
      "30/30 [==============================] - 1s 41ms/step - loss: 0.4335 - accuracy: 0.8454 - val_loss: 0.4224 - val_accuracy: 0.8510\n",
      "Epoch 5/100\n",
      "30/30 [==============================] - 1s 41ms/step - loss: 0.4114 - accuracy: 0.8537 - val_loss: 0.4119 - val_accuracy: 0.8540\n",
      "Epoch 6/100\n",
      "30/30 [==============================] - 1s 41ms/step - loss: 0.3728 - accuracy: 0.8685 - val_loss: 0.3954 - val_accuracy: 0.8514\n",
      "Epoch 7/100\n",
      "30/30 [==============================] - 1s 41ms/step - loss: 0.3632 - accuracy: 0.8705 - val_loss: 0.3613 - val_accuracy: 0.8698\n",
      "Epoch 8/100\n",
      "30/30 [==============================] - 1s 42ms/step - loss: 0.3403 - accuracy: 0.8796 - val_loss: 0.3461 - val_accuracy: 0.8772\n",
      "Epoch 9/100\n",
      "30/30 [==============================] - 1s 41ms/step - loss: 0.3283 - accuracy: 0.8837 - val_loss: 0.3341 - val_accuracy: 0.8818\n",
      "Epoch 10/100\n",
      "30/30 [==============================] - 1s 41ms/step - loss: 0.3099 - accuracy: 0.8901 - val_loss: 0.3337 - val_accuracy: 0.8803\n",
      "Epoch 11/100\n",
      "30/30 [==============================] - 1s 40ms/step - loss: 0.3052 - accuracy: 0.8897 - val_loss: 0.3216 - val_accuracy: 0.8843\n",
      "Epoch 12/100\n",
      "30/30 [==============================] - 1s 41ms/step - loss: 0.2896 - accuracy: 0.8960 - val_loss: 0.3317 - val_accuracy: 0.8800\n",
      "Epoch 13/100\n",
      "30/30 [==============================] - 1s 40ms/step - loss: 0.2795 - accuracy: 0.8999 - val_loss: 0.3143 - val_accuracy: 0.8851\n",
      "Epoch 14/100\n",
      "30/30 [==============================] - 1s 40ms/step - loss: 0.2756 - accuracy: 0.9007 - val_loss: 0.3038 - val_accuracy: 0.8903\n",
      "Epoch 15/100\n",
      "30/30 [==============================] - 1s 41ms/step - loss: 0.2708 - accuracy: 0.9013 - val_loss: 0.3096 - val_accuracy: 0.8852\n",
      "Epoch 16/100\n",
      "30/30 [==============================] - 1s 41ms/step - loss: 0.2531 - accuracy: 0.9091 - val_loss: 0.2858 - val_accuracy: 0.8952\n",
      "Epoch 17/100\n",
      "30/30 [==============================] - 1s 44ms/step - loss: 0.2474 - accuracy: 0.9109 - val_loss: 0.3015 - val_accuracy: 0.8898\n",
      "Epoch 18/100\n",
      "30/30 [==============================] - 1s 41ms/step - loss: 0.2422 - accuracy: 0.9122 - val_loss: 0.3096 - val_accuracy: 0.8874\n",
      "Epoch 19/100\n",
      "30/30 [==============================] - 1s 41ms/step - loss: 0.2368 - accuracy: 0.9144 - val_loss: 0.2819 - val_accuracy: 0.8977\n",
      "Epoch 20/100\n",
      "30/30 [==============================] - 1s 41ms/step - loss: 0.2246 - accuracy: 0.9194 - val_loss: 0.2711 - val_accuracy: 0.9006\n",
      "Epoch 21/100\n",
      "30/30 [==============================] - 1s 41ms/step - loss: 0.2176 - accuracy: 0.9217 - val_loss: 0.2778 - val_accuracy: 0.8989\n",
      "Epoch 22/100\n",
      "30/30 [==============================] - 1s 41ms/step - loss: 0.2173 - accuracy: 0.9217 - val_loss: 0.2704 - val_accuracy: 0.9023\n",
      "Epoch 23/100\n",
      "30/30 [==============================] - 1s 40ms/step - loss: 0.2057 - accuracy: 0.9262 - val_loss: 0.2697 - val_accuracy: 0.9017\n",
      "Epoch 24/100\n",
      "30/30 [==============================] - 1s 40ms/step - loss: 0.2032 - accuracy: 0.9265 - val_loss: 0.2610 - val_accuracy: 0.9058\n",
      "Epoch 25/100\n",
      "30/30 [==============================] - 1s 41ms/step - loss: 0.1964 - accuracy: 0.9292 - val_loss: 0.3085 - val_accuracy: 0.8883\n",
      "Epoch 26/100\n",
      "30/30 [==============================] - 1s 41ms/step - loss: 0.1935 - accuracy: 0.9302 - val_loss: 0.2549 - val_accuracy: 0.9081\n",
      "Epoch 27/100\n",
      "30/30 [==============================] - 1s 41ms/step - loss: 0.1872 - accuracy: 0.9323 - val_loss: 0.2778 - val_accuracy: 0.8988\n",
      "Epoch 28/100\n",
      "30/30 [==============================] - 1s 41ms/step - loss: 0.1828 - accuracy: 0.9345 - val_loss: 0.2615 - val_accuracy: 0.9060\n",
      "Epoch 29/100\n",
      "30/30 [==============================] - 1s 42ms/step - loss: 0.1763 - accuracy: 0.9369 - val_loss: 0.2605 - val_accuracy: 0.9080\n",
      "Epoch 30/100\n",
      "30/30 [==============================] - 1s 40ms/step - loss: 0.1705 - accuracy: 0.9392 - val_loss: 0.2491 - val_accuracy: 0.9116\n",
      "Epoch 31/100\n",
      "30/30 [==============================] - 1s 41ms/step - loss: 0.1706 - accuracy: 0.9385 - val_loss: 0.2502 - val_accuracy: 0.9122\n",
      "Epoch 32/100\n",
      "30/30 [==============================] - 1s 41ms/step - loss: 0.1714 - accuracy: 0.9386 - val_loss: 0.2529 - val_accuracy: 0.9092\n",
      "Epoch 33/100\n",
      "30/30 [==============================] - 1s 41ms/step - loss: 0.1559 - accuracy: 0.9452 - val_loss: 0.2549 - val_accuracy: 0.9086\n",
      "Epoch 34/100\n",
      "30/30 [==============================] - 1s 41ms/step - loss: 0.1542 - accuracy: 0.9447 - val_loss: 0.2512 - val_accuracy: 0.9123\n",
      "Epoch 35/100\n",
      "30/30 [==============================] - 1s 41ms/step - loss: 0.1505 - accuracy: 0.9470 - val_loss: 0.2482 - val_accuracy: 0.9117\n",
      "Epoch 36/100\n",
      "30/30 [==============================] - 1s 40ms/step - loss: 0.1518 - accuracy: 0.9456 - val_loss: 0.3174 - val_accuracy: 0.8891\n",
      "Epoch 37/100\n",
      "30/30 [==============================] - 1s 41ms/step - loss: 0.1437 - accuracy: 0.9500 - val_loss: 0.2630 - val_accuracy: 0.9092\n",
      "Epoch 38/100\n",
      "30/30 [==============================] - 1s 41ms/step - loss: 0.1425 - accuracy: 0.9494 - val_loss: 0.2399 - val_accuracy: 0.9157\n",
      "Epoch 39/100\n",
      "30/30 [==============================] - 1s 41ms/step - loss: 0.1359 - accuracy: 0.9510 - val_loss: 0.2389 - val_accuracy: 0.9181\n",
      "Epoch 40/100\n",
      "30/30 [==============================] - 1s 41ms/step - loss: 0.1348 - accuracy: 0.9522 - val_loss: 0.2441 - val_accuracy: 0.9135\n",
      "Epoch 41/100\n",
      "30/30 [==============================] - 1s 41ms/step - loss: 0.1293 - accuracy: 0.9549 - val_loss: 0.2397 - val_accuracy: 0.9160\n",
      "Epoch 42/100\n",
      "30/30 [==============================] - 1s 41ms/step - loss: 0.1227 - accuracy: 0.9577 - val_loss: 0.2530 - val_accuracy: 0.9124\n",
      "Epoch 43/100\n",
      "30/30 [==============================] - 1s 41ms/step - loss: 0.1209 - accuracy: 0.9581 - val_loss: 0.2579 - val_accuracy: 0.9105\n",
      "Epoch 44/100\n",
      "30/30 [==============================] - 1s 40ms/step - loss: 0.1200 - accuracy: 0.9577 - val_loss: 0.2548 - val_accuracy: 0.9158\n",
      "Epoch 45/100\n",
      "30/30 [==============================] - 1s 41ms/step - loss: 0.1183 - accuracy: 0.9593 - val_loss: 0.2638 - val_accuracy: 0.9105\n",
      "Epoch 46/100\n",
      "30/30 [==============================] - 1s 40ms/step - loss: 0.1091 - accuracy: 0.9631 - val_loss: 0.2415 - val_accuracy: 0.9184\n",
      "Epoch 47/100\n",
      "30/30 [==============================] - 1s 40ms/step - loss: 0.1125 - accuracy: 0.9623 - val_loss: 0.2420 - val_accuracy: 0.9189\n",
      "Epoch 48/100\n",
      "30/30 [==============================] - 1s 40ms/step - loss: 0.1077 - accuracy: 0.9626 - val_loss: 0.2419 - val_accuracy: 0.9206\n",
      "Epoch 49/100\n",
      "30/30 [==============================] - 1s 40ms/step - loss: 0.1011 - accuracy: 0.9662 - val_loss: 0.2443 - val_accuracy: 0.9199\n",
      "Epoch 50/100\n",
      "30/30 [==============================] - 1s 40ms/step - loss: 0.1026 - accuracy: 0.9637 - val_loss: 0.2448 - val_accuracy: 0.9201\n",
      "Epoch 51/100\n",
      "30/30 [==============================] - 1s 41ms/step - loss: 0.0951 - accuracy: 0.9681 - val_loss: 0.2464 - val_accuracy: 0.9191\n",
      "Epoch 52/100\n",
      "30/30 [==============================] - 1s 41ms/step - loss: 0.0972 - accuracy: 0.9673 - val_loss: 0.2460 - val_accuracy: 0.9208\n",
      "Epoch 53/100\n",
      "30/30 [==============================] - 1s 40ms/step - loss: 0.0947 - accuracy: 0.9683 - val_loss: 0.2656 - val_accuracy: 0.9122\n",
      "Epoch 54/100\n",
      "30/30 [==============================] - 1s 40ms/step - loss: 0.1407 - accuracy: 0.9588 - val_loss: 0.2529 - val_accuracy: 0.9154\n",
      "Epoch 55/100\n",
      "30/30 [==============================] - 1s 40ms/step - loss: 0.0981 - accuracy: 0.9672 - val_loss: 0.2575 - val_accuracy: 0.9146\n",
      "Epoch 56/100\n",
      "30/30 [==============================] - 1s 40ms/step - loss: 0.0812 - accuracy: 0.9745 - val_loss: 0.2518 - val_accuracy: 0.9190\n",
      "Epoch 57/100\n",
      "30/30 [==============================] - 1s 41ms/step - loss: 0.0860 - accuracy: 0.9708 - val_loss: 0.2570 - val_accuracy: 0.9159\n",
      "Epoch 58/100\n",
      "30/30 [==============================] - 1s 41ms/step - loss: 0.0768 - accuracy: 0.9760 - val_loss: 0.2728 - val_accuracy: 0.9145\n",
      "Epoch 59/100\n",
      "30/30 [==============================] - 1s 40ms/step - loss: 0.0766 - accuracy: 0.9759 - val_loss: 0.2643 - val_accuracy: 0.9163\n",
      "Epoch 60/100\n",
      "30/30 [==============================] - 1s 40ms/step - loss: 0.0770 - accuracy: 0.9751 - val_loss: 0.2996 - val_accuracy: 0.9082\n",
      "Epoch 61/100\n",
      "30/30 [==============================] - 1s 41ms/step - loss: 0.0726 - accuracy: 0.9764 - val_loss: 0.2569 - val_accuracy: 0.9211\n",
      "Epoch 62/100\n",
      "30/30 [==============================] - 1s 41ms/step - loss: 0.0724 - accuracy: 0.9770 - val_loss: 0.2570 - val_accuracy: 0.9204\n",
      "Epoch 63/100\n",
      "30/30 [==============================] - 1s 40ms/step - loss: 0.0633 - accuracy: 0.9819 - val_loss: 0.2691 - val_accuracy: 0.9193\n",
      "Epoch 64/100\n",
      "30/30 [==============================] - 1s 40ms/step - loss: 0.0658 - accuracy: 0.9794 - val_loss: 0.2733 - val_accuracy: 0.9150\n",
      "Epoch 65/100\n",
      "30/30 [==============================] - 1s 41ms/step - loss: 0.0624 - accuracy: 0.9809 - val_loss: 0.2778 - val_accuracy: 0.9151\n",
      "Epoch 66/100\n",
      "30/30 [==============================] - 1s 41ms/step - loss: 0.0617 - accuracy: 0.9807 - val_loss: 0.2680 - val_accuracy: 0.9173\n",
      "Epoch 67/100\n",
      "30/30 [==============================] - 1s 40ms/step - loss: 0.0616 - accuracy: 0.9807 - val_loss: 0.2826 - val_accuracy: 0.9151\n",
      "Epoch 68/100\n",
      "30/30 [==============================] - 1s 40ms/step - loss: 0.0523 - accuracy: 0.9855 - val_loss: 0.2688 - val_accuracy: 0.9195\n",
      "Epoch 69/100\n",
      "30/30 [==============================] - 1s 41ms/step - loss: 0.0738 - accuracy: 0.9775 - val_loss: 0.2677 - val_accuracy: 0.9219\n",
      "Epoch 70/100\n",
      "30/30 [==============================] - 1s 41ms/step - loss: 0.0789 - accuracy: 0.9761 - val_loss: 0.2669 - val_accuracy: 0.9198\n",
      "Epoch 71/100\n",
      "30/30 [==============================] - 1s 41ms/step - loss: 0.0514 - accuracy: 0.9862 - val_loss: 0.2787 - val_accuracy: 0.9182\n",
      "Epoch 72/100\n",
      "30/30 [==============================] - 1s 41ms/step - loss: 0.0466 - accuracy: 0.9876 - val_loss: 0.2767 - val_accuracy: 0.9190\n",
      "Epoch 73/100\n",
      "30/30 [==============================] - 1s 40ms/step - loss: 0.0493 - accuracy: 0.9860 - val_loss: 0.2724 - val_accuracy: 0.9206\n",
      "Epoch 74/100\n",
      "30/30 [==============================] - 1s 40ms/step - loss: 0.0431 - accuracy: 0.9892 - val_loss: 0.2736 - val_accuracy: 0.9217\n",
      "Epoch 75/100\n",
      "30/30 [==============================] - 1s 40ms/step - loss: 0.0556 - accuracy: 0.9832 - val_loss: 0.2760 - val_accuracy: 0.9205\n",
      "Epoch 76/100\n",
      "30/30 [==============================] - 1s 40ms/step - loss: 0.0406 - accuracy: 0.9896 - val_loss: 0.2960 - val_accuracy: 0.9161\n",
      "Epoch 77/100\n",
      "30/30 [==============================] - 1s 40ms/step - loss: 0.0392 - accuracy: 0.9901 - val_loss: 0.2811 - val_accuracy: 0.9205\n",
      "Epoch 78/100\n",
      "30/30 [==============================] - 1s 40ms/step - loss: 0.0846 - accuracy: 0.9729 - val_loss: 0.2788 - val_accuracy: 0.9209\n",
      "Epoch 79/100\n",
      "30/30 [==============================] - 1s 40ms/step - loss: 0.0376 - accuracy: 0.9909 - val_loss: 0.2826 - val_accuracy: 0.9209\n",
      "Epoch 80/100\n",
      "30/30 [==============================] - 1s 41ms/step - loss: 0.0361 - accuracy: 0.9913 - val_loss: 0.2880 - val_accuracy: 0.9208\n",
      "Epoch 81/100\n",
      "30/30 [==============================] - 1s 41ms/step - loss: 0.0344 - accuracy: 0.9921 - val_loss: 0.2939 - val_accuracy: 0.9183\n",
      "Epoch 82/100\n",
      "30/30 [==============================] - 1s 40ms/step - loss: 0.0326 - accuracy: 0.9927 - val_loss: 0.2934 - val_accuracy: 0.9201\n",
      "Epoch 83/100\n",
      "30/30 [==============================] - 1s 41ms/step - loss: 0.0325 - accuracy: 0.9922 - val_loss: 0.3504 - val_accuracy: 0.9076\n",
      "Epoch 84/100\n",
      "30/30 [==============================] - 1s 41ms/step - loss: 0.0455 - accuracy: 0.9864 - val_loss: 0.2958 - val_accuracy: 0.9194\n",
      "Epoch 85/100\n",
      "30/30 [==============================] - 1s 41ms/step - loss: 0.0297 - accuracy: 0.9937 - val_loss: 0.3002 - val_accuracy: 0.9193\n",
      "Epoch 86/100\n",
      "30/30 [==============================] - 1s 40ms/step - loss: 0.0280 - accuracy: 0.9943 - val_loss: 0.3010 - val_accuracy: 0.9208\n",
      "Epoch 87/100\n",
      "30/30 [==============================] - 1s 41ms/step - loss: 0.0869 - accuracy: 0.9776 - val_loss: 0.2894 - val_accuracy: 0.9124\n",
      "Epoch 88/100\n",
      "30/30 [==============================] - 1s 41ms/step - loss: 0.0513 - accuracy: 0.9858 - val_loss: 0.2966 - val_accuracy: 0.9189\n",
      "Epoch 89/100\n",
      "30/30 [==============================] - 1s 41ms/step - loss: 0.0306 - accuracy: 0.9934 - val_loss: 0.2993 - val_accuracy: 0.9209\n",
      "Epoch 90/100\n",
      "30/30 [==============================] - 1s 41ms/step - loss: 0.0252 - accuracy: 0.9950 - val_loss: 0.3081 - val_accuracy: 0.9204\n",
      "Epoch 91/100\n",
      "30/30 [==============================] - 1s 40ms/step - loss: 0.0239 - accuracy: 0.9957 - val_loss: 0.3077 - val_accuracy: 0.9213\n",
      "Epoch 92/100\n",
      "30/30 [==============================] - 1s 40ms/step - loss: 0.0223 - accuracy: 0.9963 - val_loss: 0.3099 - val_accuracy: 0.9216\n",
      "Epoch 93/100\n",
      "30/30 [==============================] - 1s 41ms/step - loss: 0.0212 - accuracy: 0.9964 - val_loss: 0.3106 - val_accuracy: 0.9203\n",
      "Epoch 94/100\n",
      "30/30 [==============================] - 1s 40ms/step - loss: 0.0217 - accuracy: 0.9962 - val_loss: 0.3145 - val_accuracy: 0.9215\n",
      "Epoch 95/100\n",
      "30/30 [==============================] - 1s 41ms/step - loss: 0.0201 - accuracy: 0.9966 - val_loss: 0.3134 - val_accuracy: 0.9212\n",
      "Epoch 96/100\n",
      "30/30 [==============================] - 1s 40ms/step - loss: 0.1394 - accuracy: 0.9655 - val_loss: 0.2897 - val_accuracy: 0.9098\n",
      "Epoch 97/100\n",
      "30/30 [==============================] - 1s 40ms/step - loss: 0.0607 - accuracy: 0.9825 - val_loss: 0.2944 - val_accuracy: 0.9182\n",
      "Epoch 98/100\n",
      "30/30 [==============================] - 1s 41ms/step - loss: 0.0306 - accuracy: 0.9937 - val_loss: 0.3043 - val_accuracy: 0.9210\n",
      "Epoch 99/100\n",
      "30/30 [==============================] - 1s 40ms/step - loss: 0.0237 - accuracy: 0.9956 - val_loss: 0.3103 - val_accuracy: 0.9207\n",
      "Epoch 100/100\n",
      "30/30 [==============================] - 1s 41ms/step - loss: 0.0201 - accuracy: 0.9969 - val_loss: 0.3180 - val_accuracy: 0.9203\n"
     ]
    }
   ],
   "source": [
    "history = model.fit(training_images, \n",
    "                    training_labels,\n",
    "                    validation_data = (validation_images, validation_labels),\n",
    "                    epochs=100,\n",
    "                    batch_size = 2000,\n",
    "                    verbose=1\n",
    "                   )"
   ]
  },
  {
   "cell_type": "code",
   "execution_count": 35,
   "id": "f1894750-c6f9-42cc-a7b0-96401d5e3424",
   "metadata": {},
   "outputs": [
    {
     "data": {
      "image/png": "[encoded data removed]",
      "text/plain": [
       "<Figure size 432x288 with 1 Axes>"
      ]
     },
     "metadata": {
      "needs_background": "light"
     },
     "output_type": "display_data"
    },
    {
     "data": {
      "image/png": "[encoded data removed]",
      "text/plain": [
       "<Figure size 432x288 with 1 Axes>"
      ]
     },
     "metadata": {
      "needs_background": "light"
     },
     "output_type": "display_data"
    }
   ],
   "source": [
    "plot_training(history, 'accuracy')\n",
    "plot_training(history, 'loss')"
   ]
  },
  {
   "cell_type": "code",
   "execution_count": null,
   "id": "f69b54d6-bc57-4b8d-a94b-1a68d66ecb4a",
   "metadata": {},
   "outputs": [],
   "source": [
    "batch_sizes=[6000,4000,3000,2000,1500,1000,750,500,250,200,125,100,50,25]\n",
    "\n",
    "optimal_hyperparameters = []\n",
    "\n",
    "for size in batch_sizes:\n",
    "    tuner= kt.Hyperband(fmnist_tuner,\n",
    "                         objective='val_accuracy',\n",
    "                         max_epochs=20,\n",
    "                         factor=3,\n",
    "                         directory='models',\n",
    "                         project_name=f'fmnist_with_cnn_batch{size}')\n",
    "    stop_early = tf.keras.callbacks.EarlyStopping(monitor='val_loss', patience = 5)\n",
    "    \n",
    "    tuner.search(training_images, training_labels,\n",
    "                 epochs = 50,\n",
    "                 validation_split = 0.2,\n",
    "                 batch_size=size)\n",
    "    best_params = tuner.get_best_hyperparameters(num_trials=1)[0]\n",
    "    dense_output = best_params.get('dense_units')\n",
    "    learning_output = best_params.get('learning_rate')\n",
    "    filters_output = best_params.get('conv_units')\n",
    "    \n",
    "    batch_results = (f'batch_size = {size}',\n",
    "                     f'Dense units: {dense_output}',\n",
    "                     f'Learning rate: {learning_output}',\n",
    "                     f'Conv filters: {filters_output}'\n",
    ")\n",
    "    print(batch_results)\n",
    "    optimal_hyperparameters.append(batch_results)\n",
    "\n",
    "np.savetxt('optimal_hyperparameters.txt', \n",
    "           np.array(optimal_hyperparameters),\n",
    "           fmt=\"%s\")"
   ]
  },
  {
   "cell_type": "code",
   "execution_count": 7,
   "id": "5ac1731b-6495-4450-bb56-6a8cf47d8b06",
   "metadata": {},
   "outputs": [
    {
     "name": "stdout",
     "output_type": "stream",
     "text": [
      "Requirement already satisfied: numba in c:\\users\\victor\\anaconda3\\lib\\site-packages (0.53.1)\n",
      "Requirement already satisfied: llvmlite<0.37,>=0.36.0rc1 in c:\\users\\victor\\anaconda3\\lib\\site-packages (from numba) (0.36.0)\n",
      "Requirement already satisfied: numpy>=1.15 in c:\\users\\victor\\anaconda3\\lib\\site-packages (from numba) (1.19.5)\n",
      "Requirement already satisfied: setuptools in c:\\users\\victor\\anaconda3\\lib\\site-packages (from numba) (57.4.0)\n",
      "Note: you may need to restart the kernel to use updated packages.\n"
     ]
    }
   ],
   "source": [
    "pip install numba"
   ]
  },
  {
   "cell_type": "code",
   "execution_count": null,
   "id": "516d2dc0-5e63-490c-a1d6-3cd3cca3d1b4",
   "metadata": {},
   "outputs": [],
   "source": []
  }
 ],
 "metadata": {
  "kernelspec": {
   "display_name": "Python 3",
   "language": "python",
   "name": "python3"
  },
  "language_info": {
   "codemirror_mode": {
    "name": "ipython",
    "version": 3
   },
   "file_extension": ".py",
   "mimetype": "text/x-python",
   "name": "python",
   "nbconvert_exporter": "python",
   "pygments_lexer": "ipython3",
   "version": "3.8.8"
  }
 },
 "nbformat": 4,
 "nbformat_minor": 5
}
